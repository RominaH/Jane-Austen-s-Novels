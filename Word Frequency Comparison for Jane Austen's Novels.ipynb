{
 "cells": [
  {
   "cell_type": "code",
   "execution_count": 1,
   "metadata": {},
   "outputs": [],
   "source": [
    "import pandas as pd\n",
    "import matplotlib as plt\n",
    "import re\n",
    "import requests\n",
    "from bs4 import BeautifulSoup\n",
    "import nltk\n",
    "from nltk.corpus import stopwords "
   ]
  },
  {
   "cell_type": "code",
   "execution_count": 2,
   "metadata": {},
   "outputs": [],
   "source": [
    "# URLs for Jane Austen's \"Pride and Prejudice\" and \"Emma\"\n",
    "PandP = 'https://www.gutenberg.org/files/1342/1342-h/1342-h.htm'\n",
    "Emma = 'https://www.gutenberg.org/files/158/158-h/158-h.htm'"
   ]
  },
  {
   "cell_type": "code",
   "execution_count": 3,
   "metadata": {},
   "outputs": [],
   "source": [
    "def word_freq(URL, exceptions = ['']):\n",
    "    '''\n",
    "    returns the frequency distribution of the text found at URL, with exceptions (such as names) eliminated\n",
    "    \n",
    "    word_freq: Str ListofStr -> (dictof Str (Nat))\n",
    "    '''\n",
    "    # extract text by fetching URL and creating beautiful soup\n",
    "    r = requests.get(URL)\n",
    "    r.encoding = 'utf-8'\n",
    "    html = r.text\n",
    "    soup = BeautifulSoup(html, features=\"lxml\")\n",
    "    text = soup.get_text()\n",
    "    \n",
    "    # create a list of the words \n",
    "    tokenizer = nltk.tokenize.RegexpTokenizer('\\w+')\n",
    "    tokens = tokenizer.tokenize(text)\n",
    "    \n",
    "    # create a list where all the words are in lowercase\n",
    "    words = []\n",
    "    for word in tokens:\n",
    "        words.append(word.lower())\n",
    "    \n",
    "    # create a new list without stop words\n",
    "    aux = ['would', 'could', 'may', 'might', 'must']\n",
    "    titles = ['mr', 'mrs', 'miss', 'lady']\n",
    "    sw = stopwords.words('english') + aux + titles + exceptions\n",
    "    new_words = []\n",
    "    for word in words:\n",
    "        if word not in sw:\n",
    "            new_words.append(word)\n",
    "    \n",
    "    # create and return the frequency distribution        \n",
    "    freqdist = nltk.FreqDist(new_words)\n",
    "    return freqdist"
   ]
  },
  {
   "cell_type": "code",
   "execution_count": 4,
   "metadata": {},
   "outputs": [],
   "source": [
    "def compare_freq(URL1, URL2, exceptions = ['']):\n",
    "    '''\n",
    "    returns the plot of the 25 most common words in URL1 and URL2 vs word \n",
    "    frequency by calling word_freq()\n",
    "    \n",
    "    compare_freq: Str Str -> Plot\n",
    "    '''\n",
    "    # call word_freq(URL) to get the frequency distribution for each URL \n",
    "    one = word_freq(URL1, exceptions)\n",
    "    two = word_freq(URL2, exceptions)\n",
    "    \n",
    "    # make a list containing the 25 most common in each novel\n",
    "    words = []\n",
    "    for x in one.most_common(25):\n",
    "        words.append(x[0])\n",
    "    for x in two.most_common(25):\n",
    "        if x[0] not in words:\n",
    "            words.append(x[0])\n",
    "    \n",
    "    # make a dictionary where the common words are the keys and the \n",
    "    # values are a list containing the frequency in the first and second URL\n",
    "    words_dict = {}\n",
    "    for w in words:\n",
    "        if w in one and w in two:\n",
    "            words_dict[w] = [one[w], two[w]]\n",
    "        elif w in one and w not in two:\n",
    "            words_dict[w] = [one[w], 0]\n",
    "        elif not w in one and w in two:\n",
    "            words_dict[w] = [0, two[w]]        \n",
    "        else:\n",
    "            words_dict[w] = [0,0] \n",
    "    \n",
    "    # find the titles\n",
    "    r1 = requests.get(URL1)\n",
    "    r1.encoding = 'utf-8'\n",
    "    html1 = r1.text\n",
    "    soup1 = BeautifulSoup(html1, features=\"lxml\")\n",
    "    title1 = str(soup1.find('title'))\n",
    "    \n",
    "    r2 = requests.get(URL2)\n",
    "    r2.encoding = 'utf-8'\n",
    "    html2 = r2.text\n",
    "    soup2 = BeautifulSoup(html2, features=\"lxml\")\n",
    "    title2 = str(soup2.find('title'))    \n",
    "    \n",
    "    # remove irrelavant info from titles\n",
    "    remove = [r'<.*f ', r',.*>']\n",
    "    for r in remove:\n",
    "        title1 = re.sub(r, '', title1)\n",
    "        title2 = re.sub(r, '', title2)\n",
    "    \n",
    "    # create a dataframe\n",
    "    df = pd.DataFrame.from_dict(words_dict).T.reset_index()\n",
    "    df.columns = ['words', title1, title2]\n",
    "    \n",
    "    # return bar graph\n",
    "    return df.plot(kind='barh', x = 'words', color = ['salmon','cornflowerblue'], figsize=(5,12), width = 0.8)"
   ]
  },
  {
   "cell_type": "code",
   "execution_count": 5,
   "metadata": {},
   "outputs": [
    {
     "data": {
      "image/png": "[encoded data removed]",
      "text/plain": [
       "<Figure size 360x864 with 1 Axes>"
      ]
     },
     "metadata": {
      "needs_background": "light"
     },
     "output_type": "display_data"
    }
   ],
   "source": [
    "names = ['emma', 'harriet', 'lydia', 'elizabeth', 'weston', 'knightley', 'elton', 'woodhouse', 'jane', 'fairfax', 'darcy', \n",
    "         'bennet', 'bingley', 'wickham', 'collins', 'churchill']\n",
    "\n",
    "compare_freq(Emma, PandP, names);"
   ]
  },
  {
   "cell_type": "markdown",
   "metadata": {},
   "source": [
    "Based on this visualization, it seems like Jane Austen commonly used introspective words in her works. Words like \"think\" and \"know\" are incredibly common in both *Emma* and *Pride and Prejudice*. Additionally, family and domestic life also seem to be important in her works, with words like \"family\", \"sister\", and \"room\" appearing in the top 25, though sister, of course, appears more often in *Pride and Prejudice* than in *Emma*. "
   ]
  },
  {
   "cell_type": "code",
   "execution_count": null,
   "metadata": {},
   "outputs": [],
   "source": []
  }
 ],
 "metadata": {
  "kernelspec": {
   "display_name": "Python 3",
   "language": "python",
   "name": "python3"
  },
  "language_info": {
   "codemirror_mode": {
    "name": "ipython",
    "version": 3
   },
   "file_extension": ".py",
   "mimetype": "text/x-python",
   "name": "python",
   "nbconvert_exporter": "python",
   "pygments_lexer": "ipython3",
   "version": "3.7.6"
  }
 },
 "nbformat": 4,
 "nbformat_minor": 4
}
